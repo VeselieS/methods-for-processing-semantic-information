{
 "cells": [
  {
   "cell_type": "markdown",
   "metadata": {},
   "source": [
    "**Лабараторная работа 1** \\\n",
    "Суть - векторизовать контент статьи и кластеризовать данные"
   ]
  },
  {
   "cell_type": "code",
   "execution_count": 24,
   "metadata": {},
   "outputs": [],
   "source": [
    "import re\n",
    "import nltk\n",
    "from natasha import Segmenter, MorphVocab, NewsEmbedding, NewsMorphTagger, Doc\n",
    "from pymorphy2 import MorphAnalyzer\n",
    "from sklearn.feature_extraction.text import CountVectorizer\n",
    "from sklearn.decomposition import PCA\n",
    "from sklearn.cluster import DBSCAN\n",
    "import pandas as pd\n",
    "import numpy as np\n",
    "import matplotlib.pyplot as plt\n",
    "import json"
   ]
  },
  {
   "cell_type": "markdown",
   "metadata": {},
   "source": [
    "**Этап 1 - нормализация** \\\n",
    "С помощью библиотеки natasha или pymorphy 2 - преобразовать текст в нормальную форму, выбросить стоп-слова"
   ]
  },
  {
   "cell_type": "code",
   "execution_count": 25,
   "metadata": {},
   "outputs": [
    {
     "name": "stderr",
     "output_type": "stream",
     "text": [
      "[nltk_data] Downloading package stopwords to\n",
      "[nltk_data]     C:\\Users\\vadik\\AppData\\Roaming\\nltk_data...\n",
      "[nltk_data]   Package stopwords is already up-to-date!\n"
     ]
    },
    {
     "name": "stdout",
     "output_type": "stream",
     "text": [
      "['Биологи выяснили причину массовой гибели морских ежей в Красном море', 'Астрономы впервые разглядели рождение древнейших галактик Вселенной', 'Ворон научили «считать» вслух', 'Ученые предсказали невиданную молекулу в недрах Урана и Нептуна, которая влияет на магнитное поле планет', 'Разный уход за детьми мог способствовать успеху современных людей на фоне неандертальцев', 'В ПНИПУ улучшили технологию производства лопаток двигателя', 'Кофеин повысил обучаемость муравьев', 'В КБГУ разработали инновационный метод получения аминотриметиленфосфоновой кислоты', 'Недалеко от Земли нашли потенциально пригодную для жизни экзопланету. Там тепло и, вероятно, есть вода', 'Просмотр блогерского контента удовлетворил эмоциональные потребности лучше, чем общение с друзьями', 'В ПНИПУ разработали микрогели, полезные для нефтедобычи и доставки лекарственных веществ в организм', 'Психологи выяснили, почему люди смотрят порнографию чаще обычного', 'Создан прототип дешевого МРТ-сканера с питанием от розетки', 'Обнаружены связанные с психическими заболеваниями варианты генов развития нервной ткани', 'Пословицу «Повторение — мать учения» научно обосновали', 'Сторонники теорий заговоров оказались любителями пофилософствовать', 'Астрономы предложили отслеживать инопланетян по отражению их энергосистемы', 'Военврачи лечат превосходящих по званию пациентов лучше', 'В Пермском Политехе разработали автоматическую тележку для перемещения грузов на производстве', 'В ИФХЭ РАН изучили структурообразование в неотвержденной смеси из эпоксида, растворителя и термопласта']\n",
      "Количество заголовков: 20\n",
      "['биолог выяснить причина массовый гибель морской еж красный море', 'астроном впервые разглядеть рождение древний галактика вселенная', 'ворона научить « считать » вслух', 'ученый предсказать невиданный молекула недра уран нептун , который влиять магнитный поле планета', 'разный уход ребенок мочь способствовать успех современный человек фон неандерталец', 'пнип улучшить технология производство лопатка двигатель', 'кофеин повысить обучаемость муравей', 'кбгу разработать инновационный метод получение аминотриметиленфосфоновый кислота', 'недалеко земля найти потенциально пригодный жизнь экзопланета теплый , вероятно , вода', 'просмотр блогерский контент удовлетворить эмоциональный потребность хороший , общение друг', 'пнип разработать микрогель , полезный нефтедобыча доставка лекарственный вещество организм', 'психолог выяснить , почему человек смотреть порнография частый обычный', 'создать прототип дешевый мрт-сканер питание розетка', 'обнаружить связать психический заболевание вариант ген развитие нервный ткань', 'пословица « повторение — мать учение » научно обосновать', 'сторонник теория заговор оказаться любитель пофилософствовать', 'астроном предложить отслеживать инопланетянин отражение энергосистема', 'военврач лечить превосходящий звание пациент', 'пермский политех разработать автоматический тележка перемещение груз производство', 'ифхэ ран изучить структурообразование неотвержденная смесь эпоксид , растворитель термопласт']\n"
     ]
    }
   ],
   "source": [
    "# Загружаем стоп-слова\n",
    "nltk.download('stopwords')\n",
    "from nltk.corpus import stopwords\n",
    "stop_words = set(stopwords.words('russian'))\n",
    "stop_symb = set(['.', ' '])\n",
    "\n",
    "# Инициализация инструментов для нормализации текста\n",
    "segmenter = Segmenter()\n",
    "morph_vocab = MorphVocab()\n",
    "morph_analyzer = MorphAnalyzer()\n",
    "emb = NewsEmbedding()\n",
    "morph_tagger = NewsMorphTagger(emb)\n",
    "\n",
    "def normalize_text(text):\n",
    "    doc = Doc(text)\n",
    "    doc.segment(segmenter)\n",
    "    doc.tag_morph(morph_tagger)\n",
    "    \n",
    "    normalized_tokens = []\n",
    "    for token in doc.tokens:\n",
    "        token.lemmatize(morph_vocab)\n",
    "        if token.lemma not in stop_words and token.lemma not in stop_symb:\n",
    "            normalized_tokens.append(token.lemma)\n",
    "    return ' '.join(normalized_tokens)\n",
    "\n",
    "\n",
    "with open('articles.json', encoding='utf-8') as file:\n",
    "    file_content = file.read()\n",
    "    data = json.loads(file_content)\n",
    "\n",
    "\n",
    "# В список titles запишем заголовки статей\n",
    "texts = []\n",
    "for article in data:\n",
    "    texts.append(article['title'])\n",
    "\n",
    "print(texts)\n",
    "print(f'Количество заголовков: {len(texts)}')\n",
    "\n",
    "\n",
    "normalized_texts = [normalize_text(text) for text in texts]\n",
    "print(normalized_texts)"
   ]
  },
  {
   "cell_type": "markdown",
   "metadata": {},
   "source": [
    "**Этап 2 - веткоризация** \\\n",
    "Используйте 1 из представленных способов \\\n",
    "CountVectorizer (sklearn) \\\n",
    "TFIDFVectrorizer (sklearn) \\\n",
    "Word2Vec (gensim)"
   ]
  },
  {
   "cell_type": "code",
   "execution_count": 26,
   "metadata": {},
   "outputs": [
    {
     "data": {
      "text/plain": [
       "array([[0, 0, 0, ..., 0, 0, 0],\n",
       "       [0, 0, 1, ..., 0, 0, 0],\n",
       "       [0, 0, 0, ..., 0, 0, 0],\n",
       "       ...,\n",
       "       [0, 0, 0, ..., 0, 0, 0],\n",
       "       [1, 0, 0, ..., 0, 0, 0],\n",
       "       [0, 0, 0, ..., 0, 0, 1]], dtype=int64)"
      ]
     },
     "execution_count": 26,
     "metadata": {},
     "output_type": "execute_result"
    }
   ],
   "source": [
    "# Векторизация текста\n",
    "vectorizer = CountVectorizer()\n",
    "X = vectorizer.fit_transform(normalized_texts)\n",
    "X.toarray()"
   ]
  },
  {
   "cell_type": "markdown",
   "metadata": {},
   "source": [
    "**Этап 3 - Сжатие векторов** \\\n",
    "С помощью PCA - сжать векторы до 2-точек, для построения кластеров"
   ]
  },
  {
   "cell_type": "code",
   "execution_count": 27,
   "metadata": {},
   "outputs": [],
   "source": [
    "# Сжатие векторов до 2 компонентов\n",
    "pca = PCA(n_components=2)\n",
    "X_pca = pca.fit_transform(X.toarray())"
   ]
  },
  {
   "cell_type": "markdown",
   "metadata": {},
   "source": [
    "**Этап 4 - клатеризация** \\\n",
    "использовать KMeans\n",
    "Использовать DBSSCAN"
   ]
  },
  {
   "cell_type": "code",
   "execution_count": 28,
   "metadata": {},
   "outputs": [],
   "source": [
    "# Кластеризация с помощью DBSCAN\n",
    "dbscan = DBSCAN(eps=0.5, min_samples=2)\n",
    "clusters = dbscan.fit_predict(X_pca)"
   ]
  },
  {
   "cell_type": "code",
   "execution_count": 29,
   "metadata": {},
   "outputs": [],
   "source": [
    "# Кластеризация с помощью DBSCAN\n",
    "dbscan = DBSCAN(eps=0.5, min_samples=2)\n",
    "clusters = dbscan.fit_predict(X_pca)"
   ]
  },
  {
   "cell_type": "markdown",
   "metadata": {},
   "source": [
    "**Этап 5 - результаты анализа** \\\n",
    "Выделить темы, по которым были построены кластеры"
   ]
  },
  {
   "cell_type": "code",
   "execution_count": 30,
   "metadata": {},
   "outputs": [
    {
     "data": {
      "image/png": "[encoded data removed]",
      "text/plain": [
       "<Figure size 1000x700 with 2 Axes>"
      ]
     },
     "metadata": {},
     "output_type": "display_data"
    },
    {
     "name": "stdout",
     "output_type": "stream",
     "text": [
      "Cluster 0:\n",
      "['Биологи выяснили причину массовой гибели морских ежей в Красном море', 'Психологи выяснили, почему люди смотрят порнографию чаще обычного']\n",
      "Cluster 1:\n",
      "['Астрономы впервые разглядели рождение древнейших галактик Вселенной', 'Ворон научили «считать» вслух', 'Кофеин повысил обучаемость муравьев', 'Недалеко от Земли нашли потенциально пригодную для жизни экзопланету. Там тепло и, вероятно, есть вода', 'Просмотр блогерского контента удовлетворил эмоциональные потребности лучше, чем общение с друзьями', 'Создан прототип дешевого МРТ-сканера с питанием от розетки', 'Обнаружены связанные с психическими заболеваниями варианты генов развития нервной ткани', 'Пословицу «Повторение — мать учения» научно обосновали', 'Сторонники теорий заговоров оказались любителями пофилософствовать', 'Астрономы предложили отслеживать инопланетян по отражению их энергосистемы', 'Военврачи лечат превосходящих по званию пациентов лучше', 'В ИФХЭ РАН изучили структурообразование в неотвержденной смеси из эпоксида, растворителя и термопласта']\n",
      "Cluster 2:\n",
      "['В ПНИПУ улучшили технологию производства лопаток двигателя', 'В КБГУ разработали инновационный метод получения аминотриметиленфосфоновой кислоты', 'В ПНИПУ разработали микрогели, полезные для нефтедобычи и доставки лекарственных веществ в организм', 'В Пермском Политехе разработали автоматическую тележку для перемещения грузов на производстве']\n",
      "Cluster -1:\n",
      "['Ученые предсказали невиданную молекулу в недрах Урана и Нептуна, которая влияет на магнитное поле планет', 'Разный уход за детьми мог способствовать успеху современных людей на фоне неандертальцев']\n"
     ]
    }
   ],
   "source": [
    "# Визуализация результатов\n",
    "df = pd.DataFrame({'x': X_pca[:, 0], 'y': X_pca[:, 1], 'cluster': clusters})\n",
    "\n",
    "plt.figure(figsize=(10, 7))\n",
    "plt.scatter(df['x'], df['y'], c=df['cluster'], cmap='viridis', marker='o')\n",
    "plt.title('DBSCAN Clustering')\n",
    "plt.xlabel('PCA Component 1')\n",
    "plt.ylabel('PCA Component 2')\n",
    "plt.colorbar(label='Cluster')\n",
    "plt.show()\n",
    "\n",
    "# Выделение тем по кластерам\n",
    "for cluster in set(clusters):\n",
    "    print(f\"Cluster {cluster}:\")\n",
    "    cluster_texts = [texts[i] for i in range(len(clusters)) if clusters[i] == cluster]\n",
    "    print(cluster_texts)"
   ]
  }
 ],
 "metadata": {
  "kernelspec": {
   "display_name": "Python 3",
   "language": "python",
   "name": "python3"
  },
  "language_info": {
   "codemirror_mode": {
    "name": "ipython",
    "version": 3
   },
   "file_extension": ".py",
   "mimetype": "text/x-python",
   "name": "python",
   "nbconvert_exporter": "python",
   "pygments_lexer": "ipython3",
   "version": "3.11.0"
  }
 },
 "nbformat": 4,
 "nbformat_minor": 2
}
